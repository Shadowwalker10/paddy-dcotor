{
 "cells": [
  {
   "cell_type": "code",
   "execution_count": 1,
   "metadata": {},
   "outputs": [],
   "source": [
    "import os"
   ]
  },
  {
   "cell_type": "code",
   "execution_count": 2,
   "metadata": {},
   "outputs": [
    {
     "data": {
      "text/plain": [
       "'d:\\\\Artificial Intelligence and Machine Learning\\\\End2End Projects\\\\Paddy Doctor - Paddy Disease Classification\\\\paddy-doctor\\\\research'"
      ]
     },
     "execution_count": 2,
     "metadata": {},
     "output_type": "execute_result"
    }
   ],
   "source": [
    "%pwd"
   ]
  },
  {
   "cell_type": "code",
   "execution_count": 3,
   "metadata": {},
   "outputs": [
    {
     "data": {
      "text/plain": [
       "'d:\\\\Artificial Intelligence and Machine Learning\\\\End2End Projects\\\\Paddy Doctor - Paddy Disease Classification\\\\paddy-doctor'"
      ]
     },
     "execution_count": 3,
     "metadata": {},
     "output_type": "execute_result"
    }
   ],
   "source": [
    "os.chdir(\"../\")\n",
    "%pwd"
   ]
  },
  {
   "cell_type": "code",
   "execution_count": 4,
   "metadata": {},
   "outputs": [],
   "source": [
    "## Define entity\n",
    "from dataclasses import dataclass\n",
    "from pathlib import Path\n",
    "\n",
    "@dataclass\n",
    "class PrepareBaseModelConfig:\n",
    "    root_dir: Path\n",
    "    base_model_path: Path\n",
    "    updated_base_model_path: Path\n",
    "    params_weights: str\n",
    "    params_input_shape: list\n",
    "    freeze_all: bool\n",
    "    freeze_till: int\n",
    "    learning_rate: float\n",
    "    classes: int\n",
    "    dropout_rate:float\n",
    "    l2_weight_decay: float\n",
    "    l1_weight_decay: float\n",
    "\n",
    "\n"
   ]
  },
  {
   "cell_type": "code",
   "execution_count": 5,
   "metadata": {},
   "outputs": [],
   "source": [
    "from paddydoctor.constants import *\n",
    "from paddydoctor.utils.common import *"
   ]
  },
  {
   "cell_type": "code",
   "execution_count": 6,
   "metadata": {},
   "outputs": [],
   "source": [
    "## Define Configuration Manager\n",
    "\n",
    "class ConfigurationManager:\n",
    "    def __init__(self, \n",
    "                 config_filepath = CONFIG_FILEPATH, \n",
    "                 params_filepath = PARAMS_FILEPATH):\n",
    "        \n",
    "        self.config = read_yaml(config_filepath)\n",
    "        self.params = read_yaml(params_filepath)\n",
    "\n",
    "        create_directories_files([self.config.artifacts_root])\n",
    "\n",
    "    def get_prepare_base_model_config(self)->PrepareBaseModelConfig:\n",
    "        config = self.config.prepare_base_model\n",
    "        create_directories_files([config.root_dir])\n",
    "        prepare_base_model_config = PrepareBaseModelConfig(root_dir = config.root_dir, \n",
    "                                                           base_model_path = config.base_model_path, \n",
    "                                                           updated_base_model_path = config.updated_base_model_path, \n",
    "                                                           params_weights = self.params.weights,\n",
    "                                                           params_input_shape=self.params.input_shape,\n",
    "                                                           freeze_all = self.params.freeze_all, \n",
    "                                                           freeze_till = self.params.freeze_till, \n",
    "                                                           learning_rate = self.params.learning_rate, \n",
    "                                                           classes = self.params.classes,\n",
    "                                                           dropout_rate = self.params.dropout_rate,\n",
    "                                                           l2_weight_decay = self.params.l2_weight_decay,\n",
    "                                                           l1_weight_decay = self.params.l1_weight_decay)\n",
    "        \n",
    "        return prepare_base_model_config\n",
    "\n",
    "\n",
    "\n",
    "\n"
   ]
  },
  {
   "cell_type": "code",
   "execution_count": 12,
   "metadata": {},
   "outputs": [],
   "source": [
    "import torch\n",
    "import torch.nn as nn\n",
    "import torch.optim as optim\n",
    "from torchvision.models import vit_b_16, ViT_B_16_Weights\n",
    "from torchinfo import summary"
   ]
  },
  {
   "cell_type": "code",
   "execution_count": 18,
   "metadata": {},
   "outputs": [],
   "source": [
    "## Update Components\n",
    "class PrepareBaseModel:\n",
    "    def __init__(self, config: PrepareBaseModelConfig):\n",
    "        self.config = config\n",
    "    def get_base_model(self):\n",
    "        weights_map = {\"IMAGENET1K_V1\": ViT_B_16_Weights.IMAGENET1K_V1, \n",
    "                       \"IMAGENET1K_SWAG_E2E_V1\": ViT_B_16_Weights.IMAGENET1K_SWAG_E2E_V1}\n",
    "        \n",
    "        self.model = vit_b_16(weights=weights_map[self.config.params_weights])\n",
    "        self.save_model(path = self.config.base_model_path, model = self.model)\n",
    "\n",
    "    ## Static Method is defined when we want to use a function that doesn't rely on the class\n",
    "    ## We cannot use self when a function is defined as static method\n",
    "    ## Static Function can be directly run without instantating the class. Use it directly as\n",
    "    ## PrepareBaseModel._prepare_full_model()\n",
    "    \n",
    "    @staticmethod\n",
    "    def _prepare_full_model(model, \n",
    "                            classes:int, \n",
    "                            freeze_all:bool, \n",
    "                            freeze_till:int, \n",
    "                            learning_rate:float, \n",
    "                            dropout_rate: float, \n",
    "                            l2_weight_decay: float):\n",
    "        # Freeze all layers if freeze_all is true\n",
    "        if freeze_all:\n",
    "            for param in model.parameters():\n",
    "                param.requires_grad = False\n",
    "        elif freeze_till is not None and freeze_till>0:\n",
    "            for param in list(model.parameters())[:-freeze_till]:\n",
    "                param.requires_grad = False\n",
    "\n",
    "        # Replace the classification head\n",
    "        \n",
    "        model.heads = nn.Sequential(nn.Linear(768,1028),\n",
    "                                    nn.ReLU(), \n",
    "                                    nn.Dropout(dropout_rate),\n",
    "                                    nn.Linear(1028, 128),\n",
    "                                    nn.ReLU(),\n",
    "                                    nn.Dropout(dropout_rate),\n",
    "                                    nn.Linear(128, classes),\n",
    "                                    nn.Softmax(dim = 1))\n",
    "        # Define optimizer\n",
    "        optimizer = optim.Adam(params = model.parameters(), \n",
    "                               lr = learning_rate, \n",
    "                               weight_decay = l2_weight_decay)\n",
    "        # Define loss function\n",
    "        criterion = nn.CrossEntropyLoss()\n",
    "\n",
    "        print(summary(model = model, \n",
    "                input_size = (32,3,224,224), \n",
    "                col_names=[\"input_size\", \"output_size\", \"num_params\", \"trainable\"],\n",
    "                col_width = 20, row_settings = [\"var_names\"]))\n",
    "\n",
    "        \n",
    "        return model, optimizer, criterion\n",
    "    \n",
    "    def update_base_model(self):\n",
    "        self.full_model,self.optimizer, self.criterion = self._prepare_full_model(model = self.model, \n",
    "                                                                                  classes = self.config.classes,\n",
    "                                                                                  freeze_all = self.config.freeze_all, \n",
    "                                                                                  freeze_till = self.config.freeze_till, \n",
    "                                                                                  learning_rate = self.config.learning_rate, \n",
    "                                                                                  dropout_rate = self.config.dropout_rate, \n",
    "                                                                                  l2_weight_decay = self.config.l2_weight_decay\n",
    "                                                                                  )\n",
    "        self.save_model(self.config.updated_base_model_path, self.full_model)\n",
    "    \n",
    "    @staticmethod\n",
    "    def save_model(path, model):\n",
    "        torch.save(model.state_dict(), path)\n",
    "        \n",
    "        "
   ]
  },
  {
   "cell_type": "code",
   "execution_count": 19,
   "metadata": {},
   "outputs": [
    {
     "name": "stdout",
     "output_type": "stream",
     "text": [
      "[2024-09-17 13:55:27,006: INFO: common: config\\config.yaml loaded successfully]\n",
      "[2024-09-17 13:55:27,009: INFO: common: params\\params.yaml loaded successfully]\n",
      "[2024-09-17 13:55:27,012: INFO: common: Directories and Files successfully created]\n",
      "[2024-09-17 13:55:27,013: INFO: common: Directories and Files successfully created]\n",
      "============================================================================================================================================\n",
      "Layer (type (var_name))                                      Input Shape          Output Shape         Param #              Trainable\n",
      "============================================================================================================================================\n",
      "VisionTransformer (VisionTransformer)                        [32, 3, 224, 224]    [32, 10]             768                  Partial\n",
      "├─Conv2d (conv_proj)                                         [32, 3, 224, 224]    [32, 768, 14, 14]    (590,592)            False\n",
      "├─Encoder (encoder)                                          [32, 197, 768]       [32, 197, 768]       151,296              Partial\n",
      "│    └─Dropout (dropout)                                     [32, 197, 768]       [32, 197, 768]       --                   --\n",
      "│    └─Sequential (layers)                                   [32, 197, 768]       [32, 197, 768]       --                   False\n",
      "│    │    └─EncoderBlock (encoder_layer_0)                   [32, 197, 768]       [32, 197, 768]       (7,087,872)          False\n",
      "│    │    └─EncoderBlock (encoder_layer_1)                   [32, 197, 768]       [32, 197, 768]       (7,087,872)          False\n",
      "│    │    └─EncoderBlock (encoder_layer_2)                   [32, 197, 768]       [32, 197, 768]       (7,087,872)          False\n",
      "│    │    └─EncoderBlock (encoder_layer_3)                   [32, 197, 768]       [32, 197, 768]       (7,087,872)          False\n",
      "│    │    └─EncoderBlock (encoder_layer_4)                   [32, 197, 768]       [32, 197, 768]       (7,087,872)          False\n",
      "│    │    └─EncoderBlock (encoder_layer_5)                   [32, 197, 768]       [32, 197, 768]       (7,087,872)          False\n",
      "│    │    └─EncoderBlock (encoder_layer_6)                   [32, 197, 768]       [32, 197, 768]       (7,087,872)          False\n",
      "│    │    └─EncoderBlock (encoder_layer_7)                   [32, 197, 768]       [32, 197, 768]       (7,087,872)          False\n",
      "│    │    └─EncoderBlock (encoder_layer_8)                   [32, 197, 768]       [32, 197, 768]       (7,087,872)          False\n",
      "│    │    └─EncoderBlock (encoder_layer_9)                   [32, 197, 768]       [32, 197, 768]       (7,087,872)          False\n",
      "│    │    └─EncoderBlock (encoder_layer_10)                  [32, 197, 768]       [32, 197, 768]       (7,087,872)          False\n",
      "│    │    └─EncoderBlock (encoder_layer_11)                  [32, 197, 768]       [32, 197, 768]       (7,087,872)          False\n",
      "│    └─LayerNorm (ln)                                        [32, 197, 768]       [32, 197, 768]       1,536                Partial\n",
      "├─Sequential (heads)                                         [32, 768]            [32, 10]             --                   True\n",
      "│    └─Linear (0)                                            [32, 768]            [32, 1028]           790,532              True\n",
      "│    └─ReLU (1)                                              [32, 1028]           [32, 1028]           --                   --\n",
      "│    └─Dropout (2)                                           [32, 1028]           [32, 1028]           --                   --\n",
      "│    └─Linear (3)                                            [32, 1028]           [32, 128]            131,712              True\n",
      "│    └─ReLU (4)                                              [32, 128]            [32, 128]            --                   --\n",
      "│    └─Dropout (5)                                           [32, 128]            [32, 128]            --                   --\n",
      "│    └─Linear (6)                                            [32, 128]            [32, 10]             1,290                True\n",
      "│    └─Softmax (7)                                           [32, 10]             [32, 10]             --                   --\n",
      "============================================================================================================================================\n",
      "Total params: 86,722,190\n",
      "Trainable params: 924,302\n",
      "Non-trainable params: 85,797,888\n",
      "Total mult-adds (G): 5.55\n",
      "============================================================================================================================================\n",
      "Input size (MB): 19.27\n",
      "Forward/backward pass size (MB): 3331.03\n",
      "Params size (MB): 232.89\n",
      "Estimated Total Size (MB): 3583.19\n",
      "============================================================================================================================================\n"
     ]
    }
   ],
   "source": [
    "## Create pipeline\n",
    "try:\n",
    "    config = ConfigurationManager()\n",
    "    prepare_base_model_config = config.get_prepare_base_model_config()\n",
    "    prepare_base_model = PrepareBaseModel(prepare_base_model_config)\n",
    "    prepare_base_model.get_base_model()\n",
    "    prepare_base_model.update_base_model()\n",
    "except Exception as e:\n",
    "    raise e"
   ]
  },
  {
   "cell_type": "code",
   "execution_count": null,
   "metadata": {},
   "outputs": [],
   "source": []
  }
 ],
 "metadata": {
  "kernelspec": {
   "display_name": "paddy",
   "language": "python",
   "name": "python3"
  },
  "language_info": {
   "codemirror_mode": {
    "name": "ipython",
    "version": 3
   },
   "file_extension": ".py",
   "mimetype": "text/x-python",
   "name": "python",
   "nbconvert_exporter": "python",
   "pygments_lexer": "ipython3",
   "version": "3.9.19"
  }
 },
 "nbformat": 4,
 "nbformat_minor": 2
}
