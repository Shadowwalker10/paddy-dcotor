{
 "cells": [
  {
   "cell_type": "code",
   "execution_count": 1,
   "metadata": {},
   "outputs": [],
   "source": [
    "import os"
   ]
  },
  {
   "cell_type": "code",
   "execution_count": 2,
   "metadata": {},
   "outputs": [
    {
     "data": {
      "text/plain": [
       "'d:\\\\Artificial Intelligence and Machine Learning\\\\End2End Projects\\\\Paddy Doctor - Paddy Disease Classification\\\\paddy-doctor\\\\research'"
      ]
     },
     "execution_count": 2,
     "metadata": {},
     "output_type": "execute_result"
    }
   ],
   "source": [
    "%pwd"
   ]
  },
  {
   "cell_type": "code",
   "execution_count": 3,
   "metadata": {},
   "outputs": [
    {
     "data": {
      "text/plain": [
       "'d:\\\\Artificial Intelligence and Machine Learning\\\\End2End Projects\\\\Paddy Doctor - Paddy Disease Classification\\\\paddy-doctor'"
      ]
     },
     "execution_count": 3,
     "metadata": {},
     "output_type": "execute_result"
    }
   ],
   "source": [
    "os.chdir(\"../\")\n",
    "%pwd"
   ]
  },
  {
   "cell_type": "code",
   "execution_count": 4,
   "metadata": {},
   "outputs": [],
   "source": [
    "## Update Entity for Data Ingestion\n",
    "from dataclasses import dataclass\n",
    "from pathlib import Path\n",
    "\n",
    "@dataclass(frozen = True)\n",
    "class DataIngestionConfig:\n",
    "    root_dir: Path\n",
    "    dataset_name: str\n",
    "    local_data_file: Path\n",
    "    class_weight: Path\n"
   ]
  },
  {
   "cell_type": "code",
   "execution_count": 5,
   "metadata": {},
   "outputs": [],
   "source": [
    "## Update configuration manager\n",
    "from src.paddydoctor.constants import *\n",
    "from src.paddydoctor.utils.common import *\n",
    "\n",
    "\n",
    "class ConfigurationManager:\n",
    "    def __init__(self, config_filepath = CONFIG_FILEPATH, \n",
    "                 params_filepath = PARAMS_FILEPATH):\n",
    "        self.config = read_yaml(config_filepath)\n",
    "        self.params = read_yaml(params_filepath)\n",
    "\n",
    "        create_directories_files([self.config.artifacts_root])\n",
    "\n",
    "    def get_data_ingestion_config(self)->DataIngestionConfig:\n",
    "        config = self.config.data_ingestion\n",
    "        create_directories_files([config.root_dir])\n",
    "        data_ingestion_config = DataIngestionConfig(root_dir = config.root_dir, \n",
    "                                                    dataset_name = config.dataset_name, \n",
    "                                                    local_data_file = config.local_data_file, \n",
    "                                                    class_weight = config.class_weight)\n",
    "        return data_ingestion_config\n",
    "        "
   ]
  },
  {
   "cell_type": "code",
   "execution_count": 6,
   "metadata": {},
   "outputs": [],
   "source": [
    "## Update Components\n",
    "import os\n",
    "from kaggle.api.kaggle_api_extended import KaggleApi\n",
    "from paddydoctor.logging import logger\n",
    "import zipfile\n",
    "from src.paddydoctor.utils.common import *"
   ]
  },
  {
   "cell_type": "code",
   "execution_count": 7,
   "metadata": {},
   "outputs": [],
   "source": [
    "class DataIngestion:\n",
    "    def __init__(self, config: DataIngestionConfig):\n",
    "        self.config = config\n",
    "        self.api = KaggleApi()\n",
    "        self.api.authenticate()\n",
    "    \n",
    "    def download_files(self):\n",
    "        if not os.path.exists(os.path.join(self.config.local_data_file, \"train.csv\")) and (get_size(os.path.join(self.config.local_data_file, \"train_images\")))<100:\n",
    "            logger.info(f\"Downloading Dataset: {self.config.dataset_name} to directory: {self.config.local_data_file}\")\n",
    "            ## Downloading\n",
    "            self.api.competition_download_files(competition = self.config.dataset_name, \n",
    "                                            path = self.config.local_data_file)\n",
    "            logger.info(\"Files Downloaded Successfully\")\n",
    "\n",
    "            ## Unzipping\n",
    "            zipfile_path = os.path.join(self.config.local_data_file, f\"{self.config.dataset_name}.zip\")\n",
    "\n",
    "            if zipfile.is_zipfile(zipfile_path):\n",
    "                with zipfile.ZipFile(zipfile_path, \"r\") as zip_ref:\n",
    "                    zip_ref.extractall(path = self.config.local_data_file)\n",
    "                    logger.info(f\"Files Successfully unzipped to {self.config.local_data_file}\")\n",
    "                os.remove(zipfile_path)\n",
    "                \n",
    "            \n",
    "            else:\n",
    "                logger.error(f\"{zipfile_path} is not a valid zip file\")\n",
    "        else:\n",
    "            logger.info(\"File already Downloaded\")\n",
    "            return"
   ]
  },
  {
   "cell_type": "code",
   "execution_count": 8,
   "metadata": {},
   "outputs": [
    {
     "name": "stdout",
     "output_type": "stream",
     "text": [
      "[2024-09-16 10:09:11,955: INFO: common: config\\config.yaml loaded successfully]\n",
      "[2024-09-16 10:09:11,957: INFO: common: params\\params.yaml loaded successfully]\n",
      "[2024-09-16 10:09:11,958: INFO: common: Directories and Files successfully created]\n",
      "[2024-09-16 10:09:11,959: INFO: common: Directories and Files successfully created]\n",
      "[2024-09-16 10:09:11,964: INFO: 3364030265: File already Downloaded]\n",
      "[2024-09-16 10:09:11,976: INFO: common: Data Saved Successfully to artifacts\\class_weight.json]\n"
     ]
    }
   ],
   "source": [
    "try:\n",
    "    config = ConfigurationManager()\n",
    "    data_ingestion_config = config.get_data_ingestion_config()\n",
    "    data_ingestion = DataIngestion(config = data_ingestion_config)\n",
    "    data_ingestion.download_files()\n",
    "\n",
    "   \n",
    "    to_check = os.path.join(data_ingestion_config.local_data_file, \"train_images\")\n",
    "    classes = os.listdir(to_check)\n",
    "    paths = [os.path.join(to_check, c) for c in classes]\n",
    "    lengths = [(c,len(os.listdir(p))) for (p,c) in zip(paths,classes)]\n",
    "    total = sum([x[1] for x in lengths])\n",
    "    class_weights = {c:total/count for c,count in lengths}\n",
    "    save_json(Path(data_ingestion_config.class_weight), class_weights)\n",
    "\n",
    "except Exception as e:\n",
    "    raise e"
   ]
  },
  {
   "cell_type": "code",
   "execution_count": null,
   "metadata": {},
   "outputs": [],
   "source": []
  }
 ],
 "metadata": {
  "kernelspec": {
   "display_name": "paddy",
   "language": "python",
   "name": "python3"
  },
  "language_info": {
   "codemirror_mode": {
    "name": "ipython",
    "version": 3
   },
   "file_extension": ".py",
   "mimetype": "text/x-python",
   "name": "python",
   "nbconvert_exporter": "python",
   "pygments_lexer": "ipython3",
   "version": "3.9.19"
  }
 },
 "nbformat": 4,
 "nbformat_minor": 2
}
