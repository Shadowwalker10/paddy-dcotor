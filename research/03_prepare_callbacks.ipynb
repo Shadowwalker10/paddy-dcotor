{
 "cells": [
  {
   "cell_type": "code",
   "execution_count": 1,
   "metadata": {},
   "outputs": [],
   "source": [
    "import os"
   ]
  },
  {
   "cell_type": "code",
   "execution_count": 2,
   "metadata": {},
   "outputs": [
    {
     "data": {
      "text/plain": [
       "'d:\\\\Artificial Intelligence and Machine Learning\\\\End2End Projects\\\\Paddy Doctor - Paddy Disease Classification\\\\paddy-doctor\\\\research'"
      ]
     },
     "execution_count": 2,
     "metadata": {},
     "output_type": "execute_result"
    }
   ],
   "source": [
    "%pwd"
   ]
  },
  {
   "cell_type": "code",
   "execution_count": 3,
   "metadata": {},
   "outputs": [
    {
     "data": {
      "text/plain": [
       "'d:\\\\Artificial Intelligence and Machine Learning\\\\End2End Projects\\\\Paddy Doctor - Paddy Disease Classification\\\\paddy-doctor'"
      ]
     },
     "execution_count": 3,
     "metadata": {},
     "output_type": "execute_result"
    }
   ],
   "source": [
    "os.chdir(\"../\")\n",
    "%pwd"
   ]
  },
  {
   "cell_type": "code",
   "execution_count": 18,
   "metadata": {},
   "outputs": [],
   "source": [
    "from dataclasses import dataclass\n",
    "from pathlib import Path\n",
    "\n",
    "@dataclass(frozen = True)\n",
    "class PrepareCallbacksConfig:\n",
    "    root_dir: Path\n",
    "    tensorboard_root_log_dir: Path\n",
    "    checkpoint_model_filepath: Path\n",
    "    learning_rate: float\n",
    "    lr_reduce_factor: float\n",
    "    lr_reduce_patience: int\n",
    "    min_lr: float\n",
    "    early_stopping_patience: int\n",
    "    early_stopping_delta: int"
   ]
  },
  {
   "cell_type": "code",
   "execution_count": 15,
   "metadata": {},
   "outputs": [],
   "source": [
    "from paddydoctor.constants import *\n",
    "from pathlib import Path\n",
    "from paddydoctor.utils.common import *"
   ]
  },
  {
   "cell_type": "code",
   "execution_count": 20,
   "metadata": {},
   "outputs": [],
   "source": [
    "class ConfigurationManager:\n",
    "    def __init__(self, config_filepath = CONFIG_FILEPATH, \n",
    "                 params_filepath = PARAMS_FILEPATH):\n",
    "        self.config = read_yaml(CONFIG_FILEPATH)\n",
    "        self.params = read_yaml(PARAMS_FILEPATH)\n",
    "\n",
    "        create_directories_files([self.config.artifacts_root])\n",
    "\n",
    "    def get_prepare_callbacks_config(self):\n",
    "        config = self.config.prepare_callbacks\n",
    "        \n",
    "        create_directories_files([config.root_dir])\n",
    "        create_directories_files([config.tensorboard_root_log_dir])\n",
    "        create_directories_files([os.path.dirname(config.checkpoint_model_filepath)])\n",
    "\n",
    "\n",
    "        prepare_callbacks_config = PrepareCallbacksConfig(root_dir = Path(config.root_dir), \n",
    "                                                          tensorboard_root_log_dir = Path(config.tensorboard_root_log_dir),\n",
    "                                                          checkpoint_model_filepath = Path(config.checkpoint_model_filepath),\n",
    "                                                          learning_rate = self.params.learning_rate,\n",
    "                                                          lr_reduce_factor = self.params.lr_reduce_factor, \n",
    "                                                          lr_reduce_patience = self.params.lr_reduce_patience,\n",
    "                                                          min_lr = self.params.min_lr, \n",
    "                                                          early_stopping_patience = self.params.early_stopping_patience,\n",
    "                                                          early_stopping_delta = self.params.early_stopping_delta\n",
    "                                                          )\n",
    "        \n",
    "        return prepare_callbacks_config"
   ]
  },
  {
   "cell_type": "code",
   "execution_count": 21,
   "metadata": {},
   "outputs": [],
   "source": [
    "from torch.utils.tensorboard import SummaryWriter\n",
    "import time\n",
    "import torch"
   ]
  },
  {
   "cell_type": "code",
   "execution_count": 23,
   "metadata": {},
   "outputs": [],
   "source": [
    "## Update the components\n",
    "\n",
    "class PrepareCallbacks:\n",
    "    def __init__(self, config: PrepareCallbacksConfig):\n",
    "        self.config = config\n",
    "    \n",
    "    @property\n",
    "    def _create_tb_callbacks(self):\n",
    "        timestamp = time.strftime(\"%Y-%m-%d-%H-%M-%S\")\n",
    "        tb_running_log_dir = os.path.join(self.config.tensorboard_root_log_dir, \n",
    "                                          f\"tb_logs_at_{timestamp}\")\n",
    "        self.writer = SummaryWriter(log_dir = tb_running_log_dir)\n",
    "        return self.writer\n",
    "    @property\n",
    "    def _create_ckpt_callbacks(self, model, optimizer):\n",
    "        checkpoint_path = self.config.checkpoint_model_filepath\n",
    "        self.best_val_loss = float(\"inf\")\n",
    "        def save_checkpoint(epoch, val_loss):\n",
    "            if val_loss<self.best_val_loss:\n",
    "                self.best_val_loss = val_loss\n",
    "                torch.save({\"epoch\": epoch, \n",
    "                            \"model_state_dict\": model.state_dict(),\n",
    "                            \"optimizer_state_dict\": optimizer.state_dict(),\n",
    "                            \"val_loss\": val_loss}, checkpoint_path)\n",
    "            else:\n",
    "                return\n",
    "        return save_checkpoint\n",
    "    \n",
    "    @property\n",
    "    def _create_reduce_lr_callbacks(self, optimizer):\n",
    "        return torch.optim.lr_scheduler.ReduceLROnPlateau(optimizer,\n",
    "                                                          \"min\",\n",
    "                                                          factor = self.config.lr_reduce_factor, \n",
    "                                                          patience = self.config.lr_reduce_patience, \n",
    "                                                          min_lr = self.config.min_lr)\n",
    "    @property\n",
    "    def _create_early_stopping_callbacks(self):\n",
    "        patience = self.config.early_stopping_patience\n",
    "        delta = self.config.early_stopping_delta\n",
    "        class EarlyStopping:\n",
    "            def __init__(self):\n",
    "                self.counter = 0 #counter for epochs without improvement\n",
    "                self.best_score = None #tracks the lower val_score\n",
    "                self.early_stop = False\n",
    "                self.val_loss_min = float(\"inf\")\n",
    "            def __call__(self, val_loss): \n",
    "                #Using __call__ allows us to directly pass value to the class like a function\n",
    "                ## The __call__ function directly allows us to pass the val_loss to the class itself\n",
    "                ##obj =  _create_early_stopping_callbacks()\n",
    "                ##obj(val_loss)\n",
    "\n",
    "                score = -val_loss\n",
    "                if self.best_score is None:\n",
    "                    self.best_score = score\n",
    "                    self.val_loss_min = val_loss\n",
    "                elif score<self.best_score + delta:\n",
    "                    self.counter+=1\n",
    "                    print(f\"EarlyStopping counter: {self.counter} out of {self.patience}\")\n",
    "                    if self.counter>patience:\n",
    "                        self.early_stop = True\n",
    "                else:\n",
    "                    self.best_score = score\n",
    "                    self.counter = 0 #reset counter if there is an improvement\n",
    "                    self.val_loss_min = val_loss\n",
    "        return EarlyStopping()\n",
    "    \n",
    "    def get_callbacks(self, model, optimizer):\n",
    "        return {\n",
    "            \"tensorboard\": self._create_tb_callbacks(),\n",
    "            \"model_ckpt\": self._create_ckpt_callbacks(model, optimizer),\n",
    "            \"lr_scheduler\": self._create_reduce_lr_callbacks(optimizer),\n",
    "            \"early_stopping\": self._create_early_stopping_callbacks()\n",
    "        }\n"
   ]
  },
  {
   "cell_type": "code",
   "execution_count": null,
   "metadata": {},
   "outputs": [],
   "source": []
  }
 ],
 "metadata": {
  "kernelspec": {
   "display_name": "paddy",
   "language": "python",
   "name": "python3"
  },
  "language_info": {
   "codemirror_mode": {
    "name": "ipython",
    "version": 3
   },
   "file_extension": ".py",
   "mimetype": "text/x-python",
   "name": "python",
   "nbconvert_exporter": "python",
   "pygments_lexer": "ipython3",
   "version": "3.9.19"
  }
 },
 "nbformat": 4,
 "nbformat_minor": 2
}
